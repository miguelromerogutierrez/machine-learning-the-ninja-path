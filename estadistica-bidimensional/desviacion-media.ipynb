{
 "cells": [
  {
   "cell_type": "markdown",
   "metadata": {},
   "source": [
    "# Desviación media\n",
    "\n",
    "Es la media aritmética o promedio de los valores absolutos de la desviación de cada uno de los datos de un grupo respecto a la media de estos datos.\n",
    "\n",
    "$$D_{\\bar{x}}=\\frac{\\sum_{k=1}^N|x-\\bar{x}|}{N}$$\n",
    "\n",
    "Una `desviación media` elevada implica mucha variabilidad en los datos, mientras que una `variación o desviación media` igual a cero implica que todos los valores son iguales y por lo tanto coinciden con la media.\n",
    "\n",
    "Para entender esto recordemos un par de conceptos.\n"
   ]
  },
  {
   "cell_type": "markdown",
   "metadata": {},
   "source": [
    "### Qué es un promedio?\n",
    "\n",
    "**_La media aritmética_**, también conocida como **_promedio_** o **_media_**, es un concepto matemático utilizado en estadística. Se calcula dividiendo la suma de todos los valores de una muestra (o población) estadística por el número de observaciones.\n",
    "$$\\bar{x}=\\frac{\\sum_{k=1}^N x}{N}$$"
   ]
  },
  {
   "cell_type": "markdown",
   "metadata": {},
   "source": [
    "## "
   ]
  },
  {
   "cell_type": "code",
   "execution_count": 58,
   "metadata": {},
   "outputs": [
    {
     "data": {
      "text/plain": [
       "10.2"
      ]
     },
     "execution_count": 58,
     "metadata": {},
     "output_type": "execute_result"
    }
   ],
   "source": [
    "def mean(lst):\n",
    "  return sum(lst) / len(lst)\n",
    "\n",
    "mean([15, 5, 8, 15, 9, 4, 13, 7, 18, 8])"
   ]
  },
  {
   "cell_type": "markdown",
   "metadata": {},
   "source": [
    "### Qué es la desviación?\n",
    "**_La desviación_** es la diferencia absoluta que existe entre un dato del conjunto de datos y la media aritmética de ese grupo de datos.\n",
    "$$D=|x-\\bar{x}|$$\n",
    "\n"
   ]
  },
  {
   "cell_type": "code",
   "execution_count": 57,
   "metadata": {},
   "outputs": [
    {
     "data": {
      "text/plain": [
       "[15.0, 5.0, 8.0, 15.0, 9.0, 4.0, 13.0, 7.0, 18.0, 8.0]"
      ]
     },
     "execution_count": 57,
     "metadata": {},
     "output_type": "execute_result"
    }
   ],
   "source": [
    "def deviat(lst, mean_value = float):\n",
    "  return [abs(x - mean_value) for x in lst]\n",
    "\n",
    "data = [485, 505, 492, 515, 509, 504, 487, 493, 518, 492]\n",
    "deviat(data, mean(data))"
   ]
  },
  {
   "cell_type": "markdown",
   "metadata": {},
   "source": [
    "## Por lo tanto\n",
    "\n",
    "La `desviación media` al ser por definición \"el **promedio** de las **desviaciones** respecto a la **media**\" tenemos entonces la fórmula antes mencionada:\n",
    "\n",
    "$$D_{\\bar{x}}=\\frac{\\sum_{k=1}^n|x-\\bar{x}|}{n}$$\n",
    "\n"
   ]
  },
  {
   "cell_type": "code",
   "execution_count": 59,
   "metadata": {},
   "outputs": [
    {
     "data": {
      "text/plain": [
       "10.2"
      ]
     },
     "execution_count": 59,
     "metadata": {},
     "output_type": "execute_result"
    }
   ],
   "source": [
    "def mean_dev(data: list):\n",
    "  return mean(deviat(data, mean(data)))\n",
    "\n",
    "mean_dev([485, 505, 492, 515, 509, 504, 487, 493, 518, 492])"
   ]
  },
  {
   "cell_type": "markdown",
   "metadata": {},
   "source": [
    "## El entrenador de baloncesto\n",
    "\n",
    "Supongamos que somos el entranador de dos equipos de baloncesto y solo podemos enlistar a uno de nuestros equipos para el torneo regional. Nuestra intención es elegir al equipo que tenga las mejores probabilidades de ganar y para esto se nos ocurrió que un indicador importante para ganar cualquier torneo es la cantidad de canastas por partido. Entonces empezamos a recolectar la información a lo largo de 5 partidos de práctica teniendo los siguientes resultados."
   ]
  },
  {
   "cell_type": "code",
   "execution_count": 30,
   "metadata": {},
   "outputs": [],
   "source": [
    "team_a = [40, 105, 80, 80, 90]\n",
    "team_b = [35, 110, 100, 80, 70]"
   ]
  },
  {
   "cell_type": "markdown",
   "metadata": {},
   "source": [
    "Bien podríamos pensar en sacar el promedio de las canastas de cada equipo y usarlo como indicador para hacer nuestra elección. Pero al momento de hacerlo nos encontramos con que los promedios son iguales para cada equipo 😩."
   ]
  },
  {
   "cell_type": "code",
   "execution_count": 60,
   "metadata": {},
   "outputs": [
    {
     "data": {
      "text/plain": [
       "(79.0, 79.0)"
      ]
     },
     "execution_count": 60,
     "metadata": {},
     "output_type": "execute_result"
    }
   ],
   "source": [
    "mean(team_a), mean(team_b)"
   ]
  },
  {
   "cell_type": "markdown",
   "metadata": {},
   "source": [
    "Pero ahora que sabemos sobre desviación media, podemos conocer el promedio de variación de canastas que tiene cada equipo con respecto a su media."
   ]
  },
  {
   "cell_type": "code",
   "execution_count": 61,
   "metadata": {},
   "outputs": [
    {
     "data": {
      "text/plain": [
       "(15.6, 21.2)"
      ]
     },
     "execution_count": 61,
     "metadata": {},
     "output_type": "execute_result"
    }
   ],
   "source": [
    "mean_dev(team_a), mean_dev(team_b)"
   ]
  },
  {
   "cell_type": "markdown",
   "metadata": {},
   "source": [
    "El resultado nos dice que la regularidad con la que los equipos anotan canastas.\n",
    "Por lo que al escoger al \"Equipo A\" estamos apostando al equipo con la menor variabilidad (es decir una mejor consistencia) de canastas en cada partido y así estamos un paso más cerca de ganar el campeonato regional 🎉🏀🏆🎉"
   ]
  },
  {
   "cell_type": "markdown",
   "metadata": {},
   "source": [
    "## Variación media de Datos agrupados por intervalos\n",
    "\n",
    "La \"variación media de datos agrupados por intervalos\" más que una formula aritmética es un algoritmo computacional. Vamos a explicarlo."
   ]
  },
  {
   "cell_type": "markdown",
   "metadata": {},
   "source": [
    "Antes de empezar veamos las siguientes definiciones\n",
    "\n",
    "### La frecuencia\n",
    "La frecuencia es el número de veces que se repite cada dato en un conjunto de datos. Esta la vamos a ver escrita como $f$\n",
    "\n",
    "### La Marca de Clase\n",
    "Es el punto medio de los límites del intervalo y que es el valor que representa cada uno de los intervalos. Lo podemos calcular usando la formúla de la media. \n",
    "\n",
    "$$\\bar{x}=\\frac{\\textrm{limite superior del intervalo} + \\textrm{limite inferior del intervalo}}{2}$$ \n",
    "\n",
    "En otras palabras es el promedio de cada uno de nuestros intervalos. Y este es nuestro valor representativo para el intervalo.\n"
   ]
  },
  {
   "cell_type": "markdown",
   "metadata": {},
   "source": [
    "### Ausencias de Empleados\n",
    "\n",
    "Para poder entender mejor este algoritmo computacional análicemos el ejemplo de \"Ausencias de Empleados\".\n",
    "\n",
    "Supongamos que somos parte del equipo de Staffing para una compañía y nos piden hacer un análisis sobre las ausencias de los empleados durante el año.\n",
    "\n",
    "Nos dan como información la siguiente tabla de datos:\n",
    "\n",
    "|Días$(x)$|Empleados $(f)$|\n",
    "|----|--------------|\n",
    "|[0-3]|5|\n",
    "|(3-6]|12|\n",
    "|(6-9]|23|\n",
    "|(9-12]|8|\n",
    "|(12-15]|2|\n",
    "|Total|50|\n",
    "\n",
    "La primer columna muestran 5 intervalos o clases donde se pueden agrupar de tres en tres el número de días que faltaron los empleados. Así, se puede ver que los empleados que faltaron entre 0 y 3 días en el año, fueron 5, mientras 12 de ellos faltaron entre 3 y 6 días."
   ]
  },
  {
   "cell_type": "code",
   "execution_count": 33,
   "metadata": {},
   "outputs": [],
   "source": [
    "days_range = [(0, 3), (3,6), (6, 9), (9, 12), (12, 15)]\n",
    "employees_off = [5, 12, 23, 8, 2]"
   ]
  },
  {
   "cell_type": "markdown",
   "metadata": {},
   "source": [
    "### Nota sobre la frecuencia de los datos\n",
    "\n",
    "Pero antes anotemos algo importante. Si nosotros tomamos una muestra de nuestra tabla se vería algo como lo siguiente.\n",
    "\n",
    "$$\n",
    "\\text{Muestra de datos del conjunto: }\n",
    "0,1,2,2,3,4,4,4,5,5,5,5,5,6,6,6,6,7,7,8,...\n",
    "$$\n",
    "\n",
    "Notese que para el subconjunto $\\{4,4,4,5,5,5,5,5,6,6,6,6\\}$ podemos sacar la media de la siguiente forma\n",
    "\n",
    "$$\\bar{x}=\\frac{3(4)+5(5)+4(6)}{12}=5.08$$\n",
    "\n",
    "Recuerden que segun la algebra, nosotros podemos agrupar símbolos similares que se suman en una multiplicación por la cantidad de repeticiones de estos símbolos.\n",
    "\n",
    "**Fin de la nota**"
   ]
  },
  {
   "cell_type": "markdown",
   "metadata": {},
   "source": [
    "### Planteando la solución\n",
    "\n",
    "Para empezar nuestro análisis se nos ocurre sacar el promedio de faltas de cada empleado en el año. Como nuestra data esta agrupada, entonces tenemos que obtener el _**valor representativo**_ o _**la marca de clase**_ de esos intervalos.\n",
    "\n",
    "|Días $(x)$|Empleados $(f)$|Marca de clase $(x)$|\n",
    "|----|--------------|---------------|\n",
    "|[0-3]|5|1.5|\n",
    "|(3-6]|12|4.5|\n",
    "|(6-9]|23|7.5|\n",
    "|(9-12]|8|10.5|\n",
    "|(12-15]|2|13.5|\n",
    "|Total|50||"
   ]
  },
  {
   "cell_type": "code",
   "execution_count": 77,
   "metadata": {},
   "outputs": [
    {
     "data": {
      "text/plain": [
       "[1.5, 4.5, 7.5, 10.5, 13.5]"
      ]
     },
     "execution_count": 77,
     "metadata": {},
     "output_type": "execute_result"
    }
   ],
   "source": [
    "interval_days_mean = [mean([days[0], days[1]]) for days in days_range]\n",
    "interval_days_mean"
   ]
  },
  {
   "cell_type": "markdown",
   "metadata": {},
   "source": [
    "Ahora que tenemos nuestros valores representativos o marcas de clase de cada intervalo, podemos calcular el promedio de faltas de los empleados al año. Pero notese que como estos valores estan _**agrupados**_, entonces, debemos de multiplicar cada valor representativo por la frecuencia con la que ocurre, la formúla quedaría de la siguiente manera:\n",
    "\n",
    "$$\\mu=\\frac{\\sum{(f_i)(x_i)}}{\\sum{f_i}}$$\n",
    "\n",
    "Colcamos entonces los siguientes valores en la tabla\n",
    "\n",
    "|Días $(x)$|Empleados $(f)$|Marca de clase $(x)$|$(f)(x)$|\n",
    "|----|--------------|---------------|---------------|\n",
    "|[0-3]|5|1.5|7.5|\n",
    "|(3-6]|12|4.5|54|\n",
    "|(6-9]|23|7.5|172.5|\n",
    "|(9-12]|8|10.5|84|\n",
    "|(12-15]|2|13.5|27|\n",
    "|Total|50||345|\n",
    "\n",
    "Y calculamos el promedio de nuestra marca de clase.\n",
    "\n",
    "$$\\mu=\\frac{345}{50}=6.9 \\simeq 7$$\n",
    "\n",
    "Esto nos indica que cada uno de los 50 empleados de la empresa faltaron en promedio 7 días al año."
   ]
  },
  {
   "cell_type": "code",
   "execution_count": 79,
   "metadata": {},
   "outputs": [
    {
     "name": "stdout",
     "output_type": "stream",
     "text": [
      "days_off_by_employee = [7.5, 54.0, 172.5, 84.0, 27.0]\n",
      "mean_days_off_by_employees_frequency = 6.9\n"
     ]
    }
   ],
   "source": [
    "def freq_by_value(freq: float, value: float):\n",
    "  return freq * value\n",
    "\n",
    "def mean_group(freqs: list, groups: list):\n",
    "  freq_of_group = [ freq_by_value(freqs[ix], groups[ix]) for ix in range(len(groups))]\n",
    "  return sum(freq_of_group) / sum(freqs)\n",
    "\n",
    "\n",
    "days_off_by_employee = [freq_by_value(employees_off[i], interval_days_mean[i]) for i in range(len(interval_days_mean))]\n",
    "print('days_off_by_employee =',days_off_by_employee)\n",
    "print('mean_days_off_by_employees_frequency =', mean_group(employees_off, interval_days_mean))"
   ]
  },
  {
   "cell_type": "markdown",
   "metadata": {},
   "source": [
    "Ahora con esa información podemos preguntarnos, _Cuánto es la variación de las faltas con respecto a esta media?_\n",
    "\n",
    "Para esto usaremos la formúla, ya vista, de la **_desviación_**.\n",
    "\n",
    "$$D=|x-\\bar{x}|$$\n",
    "\n",
    "Siendo nuestra media $\\mu=6.9$\n",
    "\n",
    "y nuestra fórmula queda como:\n",
    "\n",
    "$$D_i = |x_i-\\mu|$$\n",
    "\n",
    "Donde:\n",
    "1. $x_i=$ Cada valor de marca de clase en nuestra tabla\n",
    "2. $\\mu=$ el promedio de nuestras marcas de clase\n",
    "\n",
    "\n",
    "|Días $(x)$|Empleados $(f)$|Marca de clase $(x)$|$(f)(x)$|Desviación|\n",
    "|----|--------------|---------------|---------------|---------------|\n",
    "|[0-3]|5|1.5|7.5|5.4|\n",
    "|(3-6]|12|4.5|54|2.4|\n",
    "|(6-9]|23|7.5|172.5|0.6|\n",
    "|(9-12]|8|10.5|84|3.6|\n",
    "|(12-15]|2|13.5|27|6.6|\n",
    "|Total|50||345||"
   ]
  },
  {
   "cell_type": "code",
   "execution_count": 70,
   "metadata": {},
   "outputs": [
    {
     "data": {
      "text/plain": [
       "[5.4, 2.4000000000000004, 0.5999999999999996, 3.5999999999999996, 6.6]"
      ]
     },
     "execution_count": 70,
     "metadata": {},
     "output_type": "execute_result"
    }
   ],
   "source": [
    "deviat_mean_days_off = deviat(interval_days_mean, mean_group(employees_off, interval_days_mean))\n",
    "\n",
    "deviat_mean_days_off"
   ]
  },
  {
   "cell_type": "markdown",
   "metadata": {},
   "source": [
    "Ahora que tenemos la desviación de cada una de nuestras marcas de clase con respecto a su media aritmética, podemos calcular el promedio de la desviación en otras palabras la  **_desviación media_**.\n",
    "\n",
    "Entonces, tenemos que nuestra tabla es la siguiente:\n",
    "|Días $(x)$|Empleados $(f)$|Marca de clase $(x)$|$(f)(x)$|Desviación|\n",
    "|----|--------------|---------------|---------------|---------------|\n",
    "|[0-3]|5|1.5|7.5|5.4|\n",
    "|(3-6]|12|4.5|54|2.4|\n",
    "|(6-9]|23|7.5|172.5|0.6|\n",
    "|(9-12]|8|10.5|84|3.6|\n",
    "|(12-15]|2|13.5|27|6.6|\n",
    "|Total|50||345||\n",
    "\n",
    "Utilizamos nuestra formúla de media aritmética y sustituimos:\n",
    "\n",
    "$$\n",
    "D_{\\mu}=\\frac{5(5.4)+12(2.4)+23(0.6)+8(3.6)+2(6.6)}{50} = 2.232 \\simeq 2\n",
    "$$\n"
   ]
  },
  {
   "cell_type": "code",
   "execution_count": 80,
   "metadata": {},
   "outputs": [
    {
     "data": {
      "text/plain": [
       "2.2319999999999998"
      ]
     },
     "execution_count": 80,
     "metadata": {},
     "output_type": "execute_result"
    }
   ],
   "source": [
    "def mean_dev_group(freq: list, relevant_values: list):\n",
    "  return mean_group(freq, deviat(relevant_values, mean_group(freq, relevant_values)))\n",
    "\n",
    "mean_dev_group(employees_off, interval_days_mean)"
   ]
  },
  {
   "cell_type": "markdown",
   "metadata": {},
   "source": [
    "Ahora tenemos un indicador que nos dice dos cosas:\n",
    "1. El promedio de ausencias por empleado al año es de 7 días.\n",
    "2. De este promedio los empleados, en promedio, tuvieron una variación de +/- 2 días"
   ]
  },
  {
   "cell_type": "markdown",
   "metadata": {},
   "source": [
    "### Conclusión\n",
    "\n",
    "De este ejercicio podemos describir una mejor formúla para la desviación media con datos agrupados, tomado como base nuestra formúla original:\n",
    "\n",
    "$$D_{\\bar{x}}=\\frac{\\sum_{k=1}^N|x_k-\\bar{x}|}{N}$$\n",
    "\n",
    "Para datos agrupos en intervalos la podemos escribir como:\n",
    "\n",
    "$$D_{\\mu}=\\frac{\\sum_{k=1}^N(f_k)(|D_k|)}{\\sum_{k=1}^N(f_k)}$$\n",
    "\n",
    "Donde la desviación es:\n",
    "\n",
    "$$D_k = |x_k-\\mu|$$\n",
    "\n",
    "Por lo tanto, nuestra formúla quedaría como\n",
    "\n",
    "$$D_{\\mu}=\\frac{\\sum_{k=1}^N(f_k)(|x_k-\\mu|)}{\\sum_{k=1}^N(f_k)}$$\n",
    "\n",
    "Donde:\n",
    "1. $x$ es el valor relevante o promedio de cada uno de nuestros intervalos\n",
    "2. $\\mu$ es el valor promedio de nuestro conjunto de valores relevantes $x$\n",
    "3. $f$ es nuestra frecuencia con la que ocurre nuestra desviación en la tabla de datos que nos dieron\n",
    "4. y $N$ es la cantidad de intervalos o clases\n",
    "\n",
    "\n"
   ]
  },
  {
   "cell_type": "markdown",
   "metadata": {},
   "source": [
    "# Bibliografía\n",
    "\n",
    "- [\n",
    "Desviación media: Qué es, fórmula y cómo calcularla\n",
    "](https://www.questionpro.com/blog/es/desviacion-media/)\n",
    "- [Mean Deviation\n",
    "](https://www.cuemath.com/mean-deviation-formula/)\n",
    "- [La desviación media\n",
    "](https://nuevaescuelamexicana.sep.gob.mx/detalle-ficha/11031/)\n",
    "- [Playlist Varianza y desviación\n",
    "](https://www.youtube.com/playlist?list=PLeySRPnY35dE25b7mIEUlsMCQqlhJFhyG) por Matemáticas profe Alex\n"
   ]
  }
 ],
 "metadata": {
  "kernelspec": {
   "display_name": ".venv",
   "language": "python",
   "name": "python3"
  },
  "language_info": {
   "codemirror_mode": {
    "name": "ipython",
    "version": 3
   },
   "file_extension": ".py",
   "mimetype": "text/x-python",
   "name": "python",
   "nbconvert_exporter": "python",
   "pygments_lexer": "ipython3",
   "version": "3.11.7"
  }
 },
 "nbformat": 4,
 "nbformat_minor": 2
}
