{
 "cells": [
  {
   "cell_type": "markdown",
   "metadata": {},
   "source": [
    "# Estadística bidimensional\n",
    "\n",
    "La estadística bidimensional, también conocida como estadística bivariante, se ocupa del estudio de la relación entre dos variables cuantitativas. A diferencia de la estadística unidimensional, que se centra en el análisis de una sola variable, la estadística bidimensional analiza cómo una variable puede afectar o estar asociada con otra.\n",
    "\n",
    "Por ejemplo, podríamos estar interesados en estudiar la relación entre las horas de estudio y las calificaciones obtenidas por los estudiantes, o cómo la temperatura y la humedad están relacionadas en un determinado lugar.\n",
    "\n",
    "## Herramientas de la Estadística Bidimensional\n",
    "\n",
    "Para analizar las relaciones entre dos variables, la estadística bidimensional se apoya en varias herramientas y conceptos clave:\n",
    "\n",
    "### 1. Diagrama de Dispersión\n",
    "\n",
    "El diagrama de dispersión es una representación gráfica que permite visualizar la relación entre dos variables cuantitativas. En el eje horizontal (eje X) se representa una variable, mientras que en el eje vertical (eje Y) se representa la otra. Cada punto en el gráfico corresponde a un par de valores observados de las dos variables.\n",
    "\n",
    "### 2. Correlación\n",
    "\n",
    "La correlación es una medida que cuantifica el grado de relación lineal entre dos variables. El coeficiente de correlación de Pearson, por ejemplo, es un índice que varía entre -1 y 1. Un valor cercano a 1 indica una fuerte correlación positiva (cuando una variable aumenta, la otra también lo hace), un valor cercano a -1 indica una fuerte correlación negativa (cuando una variable aumenta, la otra disminuye), y un valor cercano a 0 indica que no hay una relación lineal aparente entre las variables.\n",
    "\n",
    "### 3. Regresión\n",
    "\n",
    "El análisis de regresión busca modelar la relación entre una variable dependiente y una o más variables independientes. En el caso bidimensional, se utiliza la regresión lineal simple, que intenta ajustar la mejor línea recta a los datos en el diagrama de dispersión. Esta línea se conoce como la línea de regresión y se utiliza para predecir valores de una variable basándose en los valores de la otra.\n",
    "\n",
    "### 4. Covarianza\n",
    "\n",
    "La covarianza es una medida que indica el grado de variación conjunta de dos variables aleatorias. Si la covarianza es positiva, significa que las variables tienden a variar en la misma dirección; si es negativa, varían en direcciones opuestas. Sin embargo, la covarianza no está estandarizada, por lo que es difícil interpretar su magnitud sin compararla con las varianzas de las variables individuales.\n",
    "\n",
    "### 5. Tablas de Contingencia\n",
    "\n",
    "En algunos casos, las tablas de contingencia pueden ser útiles para resumir la relación entre dos variables cualitativas o cuantitativas discretas. Estas tablas muestran la frecuencia de ocurrencia de los pares de valores de las variables.\n",
    "\n",
    "### 6. Coeficiente de Determinación\n",
    "\n",
    "El coeficiente de determinación, denotado como R², es una medida que refleja la proporción de la variabilidad de una variable que es explicada por la otra variable en el contexto de un modelo de regresión. Un R² cercano a 1 indica que el modelo explica una gran proporción de la variabilidad, mientras que un R² cercano a 0 indica lo contrario."
   ]
  },
  {
   "cell_type": "markdown",
   "metadata": {},
   "source": [
    "# Tipos de representación\n",
    "\n",
    "## Tablas de frecuencia o Tablas de contingencia\n",
    "\n",
    "En estadística, una tabla de frecuencia es una herramienta útil para organizar y resumir datos. Cuando trabajamos con datos bidimensionales, es decir, datos que involucran dos variables, como la altura y el peso de una muestra de personas, utilizamos tablas de frecuencia bidimensionales para organizar la información de manera clara y comprensible.\n",
    "\n",
    "Componentes de una tabla de frecuencia bidimensional:\n",
    "\n",
    "Variables: Las variables son las características que estamos estudiando. En una tabla de frecuencia bidimensional, tendremos dos variables, como \"Altura\" y \"Peso\".\n",
    "\n",
    "Categorías o Clases: Las categorías son los rangos en los que dividimos nuestras variables. Por ejemplo, en la variable \"Altura\", podríamos tener categorías como \"baja\", \"media\" y \"alta\". En la variable \"Peso\", podríamos tener categorías como \"ligero\", \"medio\" y \"pesado\".\n",
    "\n",
    "Frecuencias: Las frecuencias son el número de observaciones que caen dentro de cada categoría. Por ejemplo, cuántas personas tienen una altura \"baja\" y un peso \"ligero\".\n",
    "\n",
    "Ejemplo Práctico:\n",
    "\n",
    "Supongamos que tenemos una muestra de 50 personas y queremos estudiar la relación entre su altura y su peso. Vamos a construir una tabla de frecuencia bidimensional para organizar estos datos.\n",
    "\n",
    "| Altura \\ Peso | Ligero | Medio | Pesado |\n",
    "|--------------|--------|-------|--------|\n",
    "| Baja         | 4      | 6     | 2      |\n",
    "| Media        | 7      | 10    | 5      |\n",
    "| Alta         | 3      | 8     | 5      |\n",
    "\n",
    "\n",
    "En esta tabla, las filas representan las diferentes categorías de altura (baja, media, alta), y las columnas representan las diferentes categorías de peso (ligero, medio, pesado). Los números en el interior de la tabla representan las frecuencias, es decir, el número de personas que caen dentro de cada categoría de altura y peso.\n",
    "\n",
    "Con esta tabla de frecuencia bidimensional, podemos analizar fácilmente la distribución de los datos y ver si hay alguna relación entre la altura y el peso de las personas en nuestra muestra.\n"
   ]
  },
  {
   "cell_type": "markdown",
   "metadata": {},
   "source": [
    "## Nube de puntos o Diagrama de dispersión\n",
    "\n",
    "Un diagrama de dispersión, también conocido como gráfico de dispersión o gráfico XY, es una herramienta visual utilizada en estadística para representar la relación entre dos variables. Cada punto en el diagrama representa un par de valores de estas dos variables.\n",
    "\n",
    "Componentes de un Diagrama de Dispersión:\n",
    "\n",
    "**Eje X (Horizontal):** Este eje representa una de las variables en estudio, generalmente llamada variable independiente.\n",
    "\n",
    "**Eje Y (Vertical):** Este eje representa la otra variable, conocida como variable dependiente.\n",
    "\n",
    "**Puntos de Datos:** Cada punto en el diagrama representa un par de valores de las dos variables.\n",
    "\n",
    "### Interpretación de un Diagrama de Dispersión:\n",
    "\n",
    "La forma y dirección de los puntos en el diagrama de dispersión pueden revelar la naturaleza de la relación entre las dos variables:\n",
    "\n",
    "**Relación Positiva:** Si los puntos tienden a formar una línea ascendente desde la esquina inferior izquierda hacia la superior derecha, esto indica una relación positiva entre las variables. Esto significa que a medida que una variable aumenta, la otra también tiende a aumentar.\n",
    "\n",
    "**Relación Negativa:** Por otro lado, si los puntos tienden a formar una línea descendente desde la esquina superior izquierda hacia la inferior derecha, esto indica una relación negativa entre las variables. Esto significa que a medida que una variable aumenta, la otra tiende a disminuir.\n",
    "\n",
    "**No Hay Relación:** Si los puntos parecen dispersos sin formar un patrón claro, esto sugiere que no hay una relación significativa entre las dos variables.\n",
    "Ejemplo Práctico:\n",
    "\n",
    "Supongamos que queremos estudiar la relación entre la cantidad de horas que un estudiante pasa estudiando para un examen y la calificación que obtiene en ese examen. Para ello, recopilamos datos de varios estudiantes y creamos un diagrama de dispersión.\n",
    "\n",
    "Aquí está el diagrama de dispersión:\n",
    "\n",
    "[INSERTAR IMAGEN DEL DIAGRAMA DE DISPERSIÓN CON PUNTOS DISPERSOS]\n",
    "\n",
    "En este diagrama, el eje X representa las horas de estudio y el eje Y representa las calificaciones en el examen. Observamos que los puntos están dispersos sin formar un patrón claro. Esto podría indicar que no hay una relación directa entre la cantidad de horas de estudio y las calificaciones obtenidas en el examen para estos estudiantes."
   ]
  },
  {
   "cell_type": "markdown",
   "metadata": {},
   "source": [
    "# Medidas de centralización y de dispersión\n",
    "\n",
    "## Media\n",
    "\n",
    "## Varianza\n",
    "\n",
    "## Desviación típica marginal\n",
    "\n",
    "## Covarianza\n",
    "\n",
    "## Coeficiente de correlación de Pearson\n",
    "\n"
   ]
  },
  {
   "cell_type": "markdown",
   "metadata": {},
   "source": [
    "# Recta de regresión\n",
    "\n",
    "## Ecuación de la recta punto pendiente\n",
    "\n"
   ]
  }
 ],
 "metadata": {
  "language_info": {
   "name": "python"
  }
 },
 "nbformat": 4,
 "nbformat_minor": 2
}
