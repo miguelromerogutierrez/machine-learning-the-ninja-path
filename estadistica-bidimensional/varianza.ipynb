{
 "cells": [
  {
   "cell_type": "markdown",
   "metadata": {},
   "source": [
    "# Varianza\n",
    "\n",
    "Un grado de dispersión que tienen una cierta cantidad de datos con respecto al promedio.\n",
    "\n",
    "$$\\sigma_{x}^{2}={\\frac{1}{N}{\\displaystyle \\sum_{i=1}^{N}\\left(x_{i}-\\mu_x\\right)^{2}}}$$\n",
    "\n",
    "$$\\sigma_{y}^{2}={\\frac{1}{N}{\\displaystyle \\sum_{i=1}^{N}\\left(y_{i}-\\mu_y\\right)^{2}}}$$\n",
    "\n",
    "Donde:\n",
    "\n",
    "$$ \\sigma^{2} \\geq 0 $$\n",
    " "
   ]
  },
  {
   "cell_type": "markdown",
   "metadata": {},
   "source": [
    "# Covarianza\n",
    "\n",
    "Valida a la media, pues representa una medida o grado de relación con la media de un grupo de datos.\n",
    "\n",
    "$$\\sigma_{x,y}={\\frac{1}{N}{\\displaystyle \\sum_{i=1}^{N}\\left((x_i - \\mu_x)(y_i - \\mu_y)\\right)^{2}}}$$\n",
    "\n",
    "$$\\sigma_{x,y}={\\frac{1}{N}{\\displaystyle \\sum_{i=1}^{N}\\left((e_x)(e_y)\\right)^{2}}}$$\n",
    "\n",
    "Cuando entre las dos variables hay una **relación directa**, la _covarianza_ da un valor **positivo**.\n",
    "\n",
    "Cuando entre las dos variables hay una **relación inversa**, la _covarianza_ da un valor **negativo**.\n",
    "\n",
    "Cuando entre las dos variables **no hay relación**, la _covarianza_ da un valor cercano a **cero**."
   ]
  },
  {
   "cell_type": "markdown",
   "metadata": {},
   "source": [
    "# Bibliografía\n",
    "\n",
    "- [¿Qué es la varianza?](https://www.youtube.com/watch?v=YRfpblzLTrA)\n",
    "- [Covarianza - significado](https://www.youtube.com/watch?v=XW-yuLXX4PY)\n",
    "- [Playlist Estadística Bidimensional](https://www.youtube.com/playlist?list=PLwCiNw1sXMSAVPLCMuU3s0gp2ssxXUr1j)"
   ]
  }
 ],
 "metadata": {
  "language_info": {
   "name": "python"
  }
 },
 "nbformat": 4,
 "nbformat_minor": 2
}
