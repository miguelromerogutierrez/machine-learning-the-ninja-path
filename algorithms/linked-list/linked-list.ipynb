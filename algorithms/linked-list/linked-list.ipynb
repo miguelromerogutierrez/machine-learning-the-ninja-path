{
 "cells": [
  {
   "cell_type": "markdown",
   "metadata": {},
   "source": [
    "# Linked List\n",
    "\n",
    "A linked list is a linear data structure where each element is a separate object, known as a node. Each node contains two fields: data and a reference (link) to the next node in the sequence.\n",
    "\n",
    "The linked list has a head, which points to the first node. If the list is empty, the head is a null reference. The last node, also known as the tail, points to null, indicating the end of the list.\n",
    "\n",
    "Operations on a linked list include:\n",
    "\n",
    "1. **Insertion**: You can insert a new node at the beginning, end, or any given point in the list.\n",
    "2. **Deletion**: You can remove a node from the beginning, end, or any given point in the list.\n",
    "3. **Traversal**: You can traverse the list from the head to the end, accessing each node's data.\n",
    "\n",
    "The main advantage of linked lists over arrays is that the links provide an efficient way to insert and delete elements in the list as they do not need to be stored in contiguous memory locations. However, linked lists do not allow direct access to individual elements and need to be traversed from the head to access a particular node.\n",
    "\n",
    "### Time complexity\n",
    "\n",
    "The time complexities for various operations on a singly linked list:\n",
    "\n",
    "1. **Insertion:**\n",
    "  - At the start: O(1)\n",
    "- At the end: O(n) (if you don't maintain a tail pointer)\n",
    "- In the middle: O(n) (as you have to traverse to find the position)\n",
    "\n",
    "2. **Deletion:**\n",
    "- From the start: O(1)\n",
    "- From the end: O(n) (as you have to traverse to find the second last node)\n",
    "- From the middle: O(n) (as you have to traverse to find the position)\n",
    "\n",
    "3. **Searching:** O(n) (as in the worst case, you might have to traverse the entire list)\n",
    "\n",
    "4. **Accessing an element by index:** O(n) (as you have to traverse to find the position)\n",
    "\n",
    "**Note:** If you maintain a tail pointer, insertion at the end can be done in O(1) time. For a doubly linked list, deletion from the end can also be done in O(1) time."
   ]
  },
  {
   "cell_type": "code",
   "execution_count": null,
   "metadata": {},
   "outputs": [],
   "source": []
  }
 ],
 "metadata": {
  "language_info": {
   "name": "python"
  }
 },
 "nbformat": 4,
 "nbformat_minor": 2
}
