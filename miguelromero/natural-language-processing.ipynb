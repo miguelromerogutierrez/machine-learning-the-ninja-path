{
 "cells": [
  {
   "cell_type": "markdown",
   "metadata": {},
   "source": [
    "# El problema\n",
    "\n",
    "Eres un talentoso desarrollador de software, y en tu trabajo se plantean un reto interesante. Crear una máquina que pueda entender el contenido de una frase expresada de manera natural para saber si el sentimiento de la frase es positivo o negativo. \n",
    "\n",
    "Claro que, hoy en día ese problema ya esta resuelto, pero te has preguntado, ¿Cómo lo lograron? Que tan avanzadas técnicas matemáticas o computación cuántica tuvieron que desarrollar para poder procesar y analizar el contenido de una frase para poder entregar una respuesta creíble.\n",
    "\n",
    "# Tokenización\n",
    "- Tokenizar una frase en caracteres, plabras o sub-palabras\n",
    "\n",
    "# One Hot Encoding\n",
    "- Estandarizar a los tokens en un vector binario\n",
    "\n",
    "# Machine Learning\n",
    "- Generar aproximación de relación entre los tokens estandarizados\n",
    "\n"
   ]
  },
  {
   "cell_type": "markdown",
   "metadata": {},
   "source": [
    "# Embbeddings\n",
    "\n",
    "Es una ML que genera relaciones entre tokens, lo que significa que apróxima a los tokens siendo su signfiicado similar\n",
    "\n",
    "Es un proceso en el que tiene que aprender a comprimir vectores de One-Hot Encoding a una representación mas compacta para resolver su tarea.\n",
    "\n",
    "# Tipos de redes neuronales y sus usos\n",
    "\n",
    "- Redes neuronales multi-capas para tareas básicas como identificar aproximidad o movimiento\n",
    "- Redes neuronales convolucionales para entender datos espaciales como imagenes\n",
    "- Redes neuronales recurrentes para entender los datos secuenciales como textos\n",
    "- Redes neuronales que analizan y generan patrones nuevos (Generativas)\n",
    "\n",
    "# Transformers\n",
    "\n",
    "- AlphaFold2\n",
    "- GPT-3\n",
    "- VQGAN\n",
    "\n",
    "- Redes Neuronales recurrentes\n",
    "- Pérdida de memoria\n",
    "- Cálculo del ángulo entre la distancia de vectores\n",
    "- **Mecanismos de atención**\n",
    "- Producto escalar vectorial\n",
    "- Usar una red que procese cada relación entre las palabras\n",
    "- **All you nee is Attention**\n",
    "\n",
    "\n",
    "\n",
    "\n",
    "\n"
   ]
  },
  {
   "cell_type": "markdown",
   "metadata": {},
   "source": [
    "# NOTAS\n",
    "\n",
    "- Se busca reducir la dimensionalidad de un problema, ejemplo. Se desea reconocer el rostro de una persona identificando su edad y color de piel, de esta forma agrupas y compactas la información en dos dimensiones."
   ]
  }
 ],
 "metadata": {
  "language_info": {
   "name": "python"
  }
 },
 "nbformat": 4,
 "nbformat_minor": 2
}
