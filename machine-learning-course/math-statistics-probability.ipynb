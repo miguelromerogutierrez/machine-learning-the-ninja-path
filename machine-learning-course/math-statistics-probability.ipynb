{
 "cells": [
  {
   "cell_type": "markdown",
   "metadata": {},
   "source": [
    "# The Maths: Statistics and Probability\n"
   ]
  },
  {
   "cell_type": "markdown",
   "metadata": {},
   "source": [
    "## Mean\n",
    "\n",
    "$$\\bar{x}=\\frac{1}{N}\\sum_{i=1}^{N}x_i$$"
   ]
  },
  {
   "cell_type": "markdown",
   "metadata": {},
   "source": [
    "## Median\n",
    "\n",
    "$$med(x) = "
   ]
  },
  {
   "cell_type": "markdown",
   "metadata": {},
   "source": [
    "## Variance\n",
    "\n",
    "$$\\sigma_{x}^{2}={\\frac{1}{N}{\\displaystyle \\sum_{i=1}^{N}\\left(x_{i}-\\bar{x}\\right)^{2}}}$$\n",
    "\n",
    "Donde:\n",
    "\n",
    "$$ \\sigma^{2} \\geq 0 $$"
   ]
  },
  {
   "cell_type": "markdown",
   "metadata": {},
   "source": [
    "## Deviation Standard\n",
    "\n",
    "$$\\sigma_x=\\sqrt{\\frac{1}{N}\\sum_{i=1}^N(x_i-\\bar{x})^2}$$"
   ]
  },
  {
   "cell_type": "markdown",
   "metadata": {},
   "source": [
    "## Covariance\n",
    "\n",
    "$$\\sigma_{x,y}={\\frac{1}{N}{\\displaystyle \\sum_{i=1}^{N}(x_i - \\bar{x})(y_i - \\bar{y})}}$$"
   ]
  },
  {
   "cell_type": "markdown",
   "metadata": {},
   "source": []
  }
 ],
 "metadata": {
  "language_info": {
   "name": "python"
  }
 },
 "nbformat": 4,
 "nbformat_minor": 2
}
